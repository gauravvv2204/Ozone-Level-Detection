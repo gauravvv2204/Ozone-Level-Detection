{
 "cells": [
  {
   "cell_type": "code",
   "execution_count": 1,
   "metadata": {},
   "outputs": [],
   "source": [
    "import numpy as np \n",
    "import pandas as pd \n",
    "import matplotlib.pyplot as plt\n",
    "from sklearn.metrics import accuracy_score, roc_curve, auc, confusion_matrix\n",
    "from sklearn.model_selection import train_test_split\n",
    "from sklearn import tree\n",
    "import pickle"
   ]
  },
  {
   "cell_type": "code",
   "execution_count": 2,
   "metadata": {},
   "outputs": [
    {
     "data": {
      "text/html": [
       "<div>\n",
       "<style scoped>\n",
       "    .dataframe tbody tr th:only-of-type {\n",
       "        vertical-align: middle;\n",
       "    }\n",
       "\n",
       "    .dataframe tbody tr th {\n",
       "        vertical-align: top;\n",
       "    }\n",
       "\n",
       "    .dataframe thead th {\n",
       "        text-align: right;\n",
       "    }\n",
       "</style>\n",
       "<table border=\"1\" class=\"dataframe\">\n",
       "  <thead>\n",
       "    <tr style=\"text-align: right;\">\n",
       "      <th></th>\n",
       "      <th>Date</th>\n",
       "      <th>WSR0</th>\n",
       "      <th>WSR1</th>\n",
       "      <th>WSR2</th>\n",
       "      <th>WSR3</th>\n",
       "      <th>WSR4</th>\n",
       "      <th>WSR5</th>\n",
       "      <th>WSR6</th>\n",
       "      <th>WSR7</th>\n",
       "      <th>WSR8</th>\n",
       "      <th>...</th>\n",
       "      <th>RH50</th>\n",
       "      <th>U50</th>\n",
       "      <th>V50</th>\n",
       "      <th>HT50</th>\n",
       "      <th>KI</th>\n",
       "      <th>TT</th>\n",
       "      <th>SLP</th>\n",
       "      <th>SLP_</th>\n",
       "      <th>Precp</th>\n",
       "      <th>class</th>\n",
       "    </tr>\n",
       "  </thead>\n",
       "  <tbody>\n",
       "    <tr>\n",
       "      <th>0</th>\n",
       "      <td>1/1/1998</td>\n",
       "      <td>0.8</td>\n",
       "      <td>1.8</td>\n",
       "      <td>2.4</td>\n",
       "      <td>2.1</td>\n",
       "      <td>2</td>\n",
       "      <td>2.1</td>\n",
       "      <td>1.5</td>\n",
       "      <td>1.7</td>\n",
       "      <td>1.9</td>\n",
       "      <td>...</td>\n",
       "      <td>0.15</td>\n",
       "      <td>10.67</td>\n",
       "      <td>-1.56</td>\n",
       "      <td>5795</td>\n",
       "      <td>-12.1</td>\n",
       "      <td>17.9</td>\n",
       "      <td>10330</td>\n",
       "      <td>-55</td>\n",
       "      <td>0</td>\n",
       "      <td>0.0</td>\n",
       "    </tr>\n",
       "    <tr>\n",
       "      <th>1</th>\n",
       "      <td>1/2/1998</td>\n",
       "      <td>2.8</td>\n",
       "      <td>3.2</td>\n",
       "      <td>3.3</td>\n",
       "      <td>2.7</td>\n",
       "      <td>3.3</td>\n",
       "      <td>3.2</td>\n",
       "      <td>2.9</td>\n",
       "      <td>2.8</td>\n",
       "      <td>3.1</td>\n",
       "      <td>...</td>\n",
       "      <td>0.48</td>\n",
       "      <td>8.39</td>\n",
       "      <td>3.84</td>\n",
       "      <td>5805</td>\n",
       "      <td>14.05</td>\n",
       "      <td>29</td>\n",
       "      <td>10275</td>\n",
       "      <td>-55</td>\n",
       "      <td>0</td>\n",
       "      <td>0.0</td>\n",
       "    </tr>\n",
       "    <tr>\n",
       "      <th>2</th>\n",
       "      <td>1/3/1998</td>\n",
       "      <td>2.9</td>\n",
       "      <td>2.8</td>\n",
       "      <td>2.6</td>\n",
       "      <td>2.1</td>\n",
       "      <td>2.2</td>\n",
       "      <td>2.5</td>\n",
       "      <td>2.5</td>\n",
       "      <td>2.7</td>\n",
       "      <td>2.2</td>\n",
       "      <td>...</td>\n",
       "      <td>0.6</td>\n",
       "      <td>6.94</td>\n",
       "      <td>9.8</td>\n",
       "      <td>5790</td>\n",
       "      <td>17.9</td>\n",
       "      <td>41.3</td>\n",
       "      <td>10235</td>\n",
       "      <td>-40</td>\n",
       "      <td>0</td>\n",
       "      <td>0.0</td>\n",
       "    </tr>\n",
       "    <tr>\n",
       "      <th>3</th>\n",
       "      <td>1/4/1998</td>\n",
       "      <td>4.7</td>\n",
       "      <td>3.8</td>\n",
       "      <td>3.7</td>\n",
       "      <td>3.8</td>\n",
       "      <td>2.9</td>\n",
       "      <td>3.1</td>\n",
       "      <td>2.8</td>\n",
       "      <td>2.5</td>\n",
       "      <td>2.4</td>\n",
       "      <td>...</td>\n",
       "      <td>0.49</td>\n",
       "      <td>8.73</td>\n",
       "      <td>10.54</td>\n",
       "      <td>5775</td>\n",
       "      <td>31.15</td>\n",
       "      <td>51.7</td>\n",
       "      <td>10195</td>\n",
       "      <td>-40</td>\n",
       "      <td>2.08</td>\n",
       "      <td>0.0</td>\n",
       "    </tr>\n",
       "    <tr>\n",
       "      <th>4</th>\n",
       "      <td>1/5/1998</td>\n",
       "      <td>2.6</td>\n",
       "      <td>2.1</td>\n",
       "      <td>1.6</td>\n",
       "      <td>1.4</td>\n",
       "      <td>0.9</td>\n",
       "      <td>1.5</td>\n",
       "      <td>1.2</td>\n",
       "      <td>1.4</td>\n",
       "      <td>1.3</td>\n",
       "      <td>...</td>\n",
       "      <td>?</td>\n",
       "      <td>?</td>\n",
       "      <td>?</td>\n",
       "      <td>?</td>\n",
       "      <td>?</td>\n",
       "      <td>?</td>\n",
       "      <td>?</td>\n",
       "      <td>?</td>\n",
       "      <td>0.58</td>\n",
       "      <td>0.0</td>\n",
       "    </tr>\n",
       "  </tbody>\n",
       "</table>\n",
       "<p>5 rows × 74 columns</p>\n",
       "</div>"
      ],
      "text/plain": [
       "       Date WSR0 WSR1 WSR2 WSR3 WSR4 WSR5 WSR6 WSR7 WSR8  ...  RH50    U50  \\\n",
       "0  1/1/1998  0.8  1.8  2.4  2.1    2  2.1  1.5  1.7  1.9  ...  0.15  10.67   \n",
       "1  1/2/1998  2.8  3.2  3.3  2.7  3.3  3.2  2.9  2.8  3.1  ...  0.48   8.39   \n",
       "2  1/3/1998  2.9  2.8  2.6  2.1  2.2  2.5  2.5  2.7  2.2  ...   0.6   6.94   \n",
       "3  1/4/1998  4.7  3.8  3.7  3.8  2.9  3.1  2.8  2.5  2.4  ...  0.49   8.73   \n",
       "4  1/5/1998  2.6  2.1  1.6  1.4  0.9  1.5  1.2  1.4  1.3  ...     ?      ?   \n",
       "\n",
       "     V50  HT50     KI    TT    SLP SLP_ Precp class  \n",
       "0  -1.56  5795  -12.1  17.9  10330  -55     0   0.0  \n",
       "1   3.84  5805  14.05    29  10275  -55     0   0.0  \n",
       "2    9.8  5790   17.9  41.3  10235  -40     0   0.0  \n",
       "3  10.54  5775  31.15  51.7  10195  -40  2.08   0.0  \n",
       "4      ?     ?      ?     ?      ?    ?  0.58   0.0  \n",
       "\n",
       "[5 rows x 74 columns]"
      ]
     },
     "execution_count": 2,
     "metadata": {},
     "output_type": "execute_result"
    }
   ],
   "source": [
    "columns = ['Date', 'WSR0', 'WSR1', 'WSR2', 'WSR3', 'WSR4', 'WSR5', 'WSR6', 'WSR7', 'WSR8', 'WSR9', \n",
    "           'WSR10', 'WSR11', 'WSR12', 'WSR13', 'WSR14', 'WSR15', 'WSR16', 'WSR17', 'WSR18', 'WSR19', \n",
    "           'WSR20', 'WSR21', 'WSR22', 'WSR23', 'WSR_PK', 'WSR_AV', 'T0', 'T1', 'T2', 'T3', 'T4', 'T5', \n",
    "           'T6', 'T7', 'T8', 'T9', 'T10', 'T11', 'T12', 'T13', 'T14', 'T15', 'T16', 'T17', 'T18', \n",
    "           'T19', 'T20', 'T21', 'T22', 'T23', 'T_PK', 'T_AV', 'T85', 'RH85', 'U85', 'V85', 'HT85', \n",
    "           'T70', 'RH70', 'U70', 'V70', 'HT70', 'T50', 'RH50', 'U50', 'V50', 'HT50', 'KI', 'TT', \n",
    "           'SLP', 'SLP_', 'Precp', 'class']\n",
    "data = pd.read_csv('./Datasets/onehr.data.csv', delimiter=',', names=columns)\n",
    "df = pd.DataFrame(data)\n",
    "df.head()"
   ]
  },
  {
   "cell_type": "code",
   "execution_count": 3,
   "metadata": {},
   "outputs": [],
   "source": [
    "df = df.replace('?', np.nan)"
   ]
  },
  {
   "cell_type": "code",
   "execution_count": 4,
   "metadata": {},
   "outputs": [
    {
     "data": {
      "text/plain": [
       "Date       0\n",
       "WSR0     299\n",
       "WSR1     292\n",
       "WSR2     294\n",
       "WSR3     292\n",
       "        ... \n",
       "TT       125\n",
       "SLP       95\n",
       "SLP_     159\n",
       "Precp      2\n",
       "class      0\n",
       "Length: 74, dtype: int64"
      ]
     },
     "execution_count": 4,
     "metadata": {},
     "output_type": "execute_result"
    }
   ],
   "source": [
    "df.isnull().sum()"
   ]
  },
  {
   "cell_type": "code",
   "execution_count": 5,
   "metadata": {},
   "outputs": [
    {
     "data": {
      "text/html": [
       "<div>\n",
       "<style scoped>\n",
       "    .dataframe tbody tr th:only-of-type {\n",
       "        vertical-align: middle;\n",
       "    }\n",
       "\n",
       "    .dataframe tbody tr th {\n",
       "        vertical-align: top;\n",
       "    }\n",
       "\n",
       "    .dataframe thead th {\n",
       "        text-align: right;\n",
       "    }\n",
       "</style>\n",
       "<table border=\"1\" class=\"dataframe\">\n",
       "  <thead>\n",
       "    <tr style=\"text-align: right;\">\n",
       "      <th></th>\n",
       "      <th>WSR0</th>\n",
       "      <th>WSR1</th>\n",
       "      <th>WSR2</th>\n",
       "      <th>WSR3</th>\n",
       "      <th>WSR4</th>\n",
       "      <th>WSR5</th>\n",
       "      <th>WSR6</th>\n",
       "      <th>WSR7</th>\n",
       "      <th>WSR8</th>\n",
       "      <th>WSR9</th>\n",
       "      <th>...</th>\n",
       "      <th>RH50</th>\n",
       "      <th>U50</th>\n",
       "      <th>V50</th>\n",
       "      <th>HT50</th>\n",
       "      <th>KI</th>\n",
       "      <th>TT</th>\n",
       "      <th>SLP</th>\n",
       "      <th>SLP_</th>\n",
       "      <th>Precp</th>\n",
       "      <th>class</th>\n",
       "    </tr>\n",
       "  </thead>\n",
       "  <tbody>\n",
       "    <tr>\n",
       "      <th>0</th>\n",
       "      <td>0.8</td>\n",
       "      <td>1.8</td>\n",
       "      <td>2.4</td>\n",
       "      <td>2.1</td>\n",
       "      <td>2</td>\n",
       "      <td>2.1</td>\n",
       "      <td>1.5</td>\n",
       "      <td>1.7</td>\n",
       "      <td>1.9</td>\n",
       "      <td>2.3</td>\n",
       "      <td>...</td>\n",
       "      <td>0.15</td>\n",
       "      <td>10.67</td>\n",
       "      <td>-1.56</td>\n",
       "      <td>5795</td>\n",
       "      <td>-12.1</td>\n",
       "      <td>17.9</td>\n",
       "      <td>10330</td>\n",
       "      <td>-55</td>\n",
       "      <td>0</td>\n",
       "      <td>0.0</td>\n",
       "    </tr>\n",
       "    <tr>\n",
       "      <th>1</th>\n",
       "      <td>2.8</td>\n",
       "      <td>3.2</td>\n",
       "      <td>3.3</td>\n",
       "      <td>2.7</td>\n",
       "      <td>3.3</td>\n",
       "      <td>3.2</td>\n",
       "      <td>2.9</td>\n",
       "      <td>2.8</td>\n",
       "      <td>3.1</td>\n",
       "      <td>3.4</td>\n",
       "      <td>...</td>\n",
       "      <td>0.48</td>\n",
       "      <td>8.39</td>\n",
       "      <td>3.84</td>\n",
       "      <td>5805</td>\n",
       "      <td>14.05</td>\n",
       "      <td>29</td>\n",
       "      <td>10275</td>\n",
       "      <td>-55</td>\n",
       "      <td>0</td>\n",
       "      <td>0.0</td>\n",
       "    </tr>\n",
       "    <tr>\n",
       "      <th>2</th>\n",
       "      <td>2.9</td>\n",
       "      <td>2.8</td>\n",
       "      <td>2.6</td>\n",
       "      <td>2.1</td>\n",
       "      <td>2.2</td>\n",
       "      <td>2.5</td>\n",
       "      <td>2.5</td>\n",
       "      <td>2.7</td>\n",
       "      <td>2.2</td>\n",
       "      <td>2.5</td>\n",
       "      <td>...</td>\n",
       "      <td>0.6</td>\n",
       "      <td>6.94</td>\n",
       "      <td>9.8</td>\n",
       "      <td>5790</td>\n",
       "      <td>17.9</td>\n",
       "      <td>41.3</td>\n",
       "      <td>10235</td>\n",
       "      <td>-40</td>\n",
       "      <td>0</td>\n",
       "      <td>0.0</td>\n",
       "    </tr>\n",
       "    <tr>\n",
       "      <th>3</th>\n",
       "      <td>4.7</td>\n",
       "      <td>3.8</td>\n",
       "      <td>3.7</td>\n",
       "      <td>3.8</td>\n",
       "      <td>2.9</td>\n",
       "      <td>3.1</td>\n",
       "      <td>2.8</td>\n",
       "      <td>2.5</td>\n",
       "      <td>2.4</td>\n",
       "      <td>3.1</td>\n",
       "      <td>...</td>\n",
       "      <td>0.49</td>\n",
       "      <td>8.73</td>\n",
       "      <td>10.54</td>\n",
       "      <td>5775</td>\n",
       "      <td>31.15</td>\n",
       "      <td>51.7</td>\n",
       "      <td>10195</td>\n",
       "      <td>-40</td>\n",
       "      <td>2.08</td>\n",
       "      <td>0.0</td>\n",
       "    </tr>\n",
       "    <tr>\n",
       "      <th>4</th>\n",
       "      <td>2.6</td>\n",
       "      <td>2.1</td>\n",
       "      <td>1.6</td>\n",
       "      <td>1.4</td>\n",
       "      <td>0.9</td>\n",
       "      <td>1.5</td>\n",
       "      <td>1.2</td>\n",
       "      <td>1.4</td>\n",
       "      <td>1.3</td>\n",
       "      <td>1.4</td>\n",
       "      <td>...</td>\n",
       "      <td>NaN</td>\n",
       "      <td>NaN</td>\n",
       "      <td>NaN</td>\n",
       "      <td>NaN</td>\n",
       "      <td>NaN</td>\n",
       "      <td>NaN</td>\n",
       "      <td>NaN</td>\n",
       "      <td>NaN</td>\n",
       "      <td>0.58</td>\n",
       "      <td>0.0</td>\n",
       "    </tr>\n",
       "    <tr>\n",
       "      <th>...</th>\n",
       "      <td>...</td>\n",
       "      <td>...</td>\n",
       "      <td>...</td>\n",
       "      <td>...</td>\n",
       "      <td>...</td>\n",
       "      <td>...</td>\n",
       "      <td>...</td>\n",
       "      <td>...</td>\n",
       "      <td>...</td>\n",
       "      <td>...</td>\n",
       "      <td>...</td>\n",
       "      <td>...</td>\n",
       "      <td>...</td>\n",
       "      <td>...</td>\n",
       "      <td>...</td>\n",
       "      <td>...</td>\n",
       "      <td>...</td>\n",
       "      <td>...</td>\n",
       "      <td>...</td>\n",
       "      <td>...</td>\n",
       "      <td>...</td>\n",
       "    </tr>\n",
       "    <tr>\n",
       "      <th>2531</th>\n",
       "      <td>0.3</td>\n",
       "      <td>0.4</td>\n",
       "      <td>0.5</td>\n",
       "      <td>0.5</td>\n",
       "      <td>0.2</td>\n",
       "      <td>0.3</td>\n",
       "      <td>0.4</td>\n",
       "      <td>0.4</td>\n",
       "      <td>1.3</td>\n",
       "      <td>2.2</td>\n",
       "      <td>...</td>\n",
       "      <td>0.07</td>\n",
       "      <td>7.93</td>\n",
       "      <td>-4.41</td>\n",
       "      <td>5800</td>\n",
       "      <td>-25.6</td>\n",
       "      <td>21.8</td>\n",
       "      <td>10295</td>\n",
       "      <td>65</td>\n",
       "      <td>0</td>\n",
       "      <td>0.0</td>\n",
       "    </tr>\n",
       "    <tr>\n",
       "      <th>2532</th>\n",
       "      <td>1</td>\n",
       "      <td>1.4</td>\n",
       "      <td>1.1</td>\n",
       "      <td>1.7</td>\n",
       "      <td>1.5</td>\n",
       "      <td>1.7</td>\n",
       "      <td>1.8</td>\n",
       "      <td>1.5</td>\n",
       "      <td>2.1</td>\n",
       "      <td>2.4</td>\n",
       "      <td>...</td>\n",
       "      <td>0.04</td>\n",
       "      <td>5.95</td>\n",
       "      <td>-1.14</td>\n",
       "      <td>5845</td>\n",
       "      <td>-19.4</td>\n",
       "      <td>19.1</td>\n",
       "      <td>10310</td>\n",
       "      <td>15</td>\n",
       "      <td>0</td>\n",
       "      <td>0.0</td>\n",
       "    </tr>\n",
       "    <tr>\n",
       "      <th>2533</th>\n",
       "      <td>0.8</td>\n",
       "      <td>0.8</td>\n",
       "      <td>1.2</td>\n",
       "      <td>0.9</td>\n",
       "      <td>0.4</td>\n",
       "      <td>0.6</td>\n",
       "      <td>0.8</td>\n",
       "      <td>1.1</td>\n",
       "      <td>1.5</td>\n",
       "      <td>1.5</td>\n",
       "      <td>...</td>\n",
       "      <td>0.06</td>\n",
       "      <td>7.8</td>\n",
       "      <td>-0.64</td>\n",
       "      <td>5845</td>\n",
       "      <td>-9.6</td>\n",
       "      <td>35.2</td>\n",
       "      <td>10275</td>\n",
       "      <td>-35</td>\n",
       "      <td>0</td>\n",
       "      <td>0.0</td>\n",
       "    </tr>\n",
       "    <tr>\n",
       "      <th>2534</th>\n",
       "      <td>1.3</td>\n",
       "      <td>0.9</td>\n",
       "      <td>1.5</td>\n",
       "      <td>1.2</td>\n",
       "      <td>1.6</td>\n",
       "      <td>1.8</td>\n",
       "      <td>1.1</td>\n",
       "      <td>1</td>\n",
       "      <td>1.9</td>\n",
       "      <td>2</td>\n",
       "      <td>...</td>\n",
       "      <td>0.25</td>\n",
       "      <td>7.72</td>\n",
       "      <td>-0.89</td>\n",
       "      <td>5845</td>\n",
       "      <td>-19.6</td>\n",
       "      <td>34.2</td>\n",
       "      <td>10245</td>\n",
       "      <td>-30</td>\n",
       "      <td>0.05</td>\n",
       "      <td>0.0</td>\n",
       "    </tr>\n",
       "    <tr>\n",
       "      <th>2535</th>\n",
       "      <td>1.5</td>\n",
       "      <td>1.3</td>\n",
       "      <td>1.8</td>\n",
       "      <td>1.4</td>\n",
       "      <td>1.2</td>\n",
       "      <td>1.7</td>\n",
       "      <td>1.6</td>\n",
       "      <td>1.4</td>\n",
       "      <td>1.6</td>\n",
       "      <td>3</td>\n",
       "      <td>...</td>\n",
       "      <td>0.54</td>\n",
       "      <td>13.07</td>\n",
       "      <td>9.15</td>\n",
       "      <td>5820</td>\n",
       "      <td>1.95</td>\n",
       "      <td>39.35</td>\n",
       "      <td>10220</td>\n",
       "      <td>-25</td>\n",
       "      <td>0</td>\n",
       "      <td>0.0</td>\n",
       "    </tr>\n",
       "  </tbody>\n",
       "</table>\n",
       "<p>2536 rows × 73 columns</p>\n",
       "</div>"
      ],
      "text/plain": [
       "     WSR0 WSR1 WSR2 WSR3 WSR4 WSR5 WSR6 WSR7 WSR8 WSR9  ...  RH50    U50  \\\n",
       "0     0.8  1.8  2.4  2.1    2  2.1  1.5  1.7  1.9  2.3  ...  0.15  10.67   \n",
       "1     2.8  3.2  3.3  2.7  3.3  3.2  2.9  2.8  3.1  3.4  ...  0.48   8.39   \n",
       "2     2.9  2.8  2.6  2.1  2.2  2.5  2.5  2.7  2.2  2.5  ...   0.6   6.94   \n",
       "3     4.7  3.8  3.7  3.8  2.9  3.1  2.8  2.5  2.4  3.1  ...  0.49   8.73   \n",
       "4     2.6  2.1  1.6  1.4  0.9  1.5  1.2  1.4  1.3  1.4  ...   NaN    NaN   \n",
       "...   ...  ...  ...  ...  ...  ...  ...  ...  ...  ...  ...   ...    ...   \n",
       "2531  0.3  0.4  0.5  0.5  0.2  0.3  0.4  0.4  1.3  2.2  ...  0.07   7.93   \n",
       "2532    1  1.4  1.1  1.7  1.5  1.7  1.8  1.5  2.1  2.4  ...  0.04   5.95   \n",
       "2533  0.8  0.8  1.2  0.9  0.4  0.6  0.8  1.1  1.5  1.5  ...  0.06    7.8   \n",
       "2534  1.3  0.9  1.5  1.2  1.6  1.8  1.1    1  1.9    2  ...  0.25   7.72   \n",
       "2535  1.5  1.3  1.8  1.4  1.2  1.7  1.6  1.4  1.6    3  ...  0.54  13.07   \n",
       "\n",
       "        V50  HT50     KI     TT    SLP SLP_ Precp class  \n",
       "0     -1.56  5795  -12.1   17.9  10330  -55     0   0.0  \n",
       "1      3.84  5805  14.05     29  10275  -55     0   0.0  \n",
       "2       9.8  5790   17.9   41.3  10235  -40     0   0.0  \n",
       "3     10.54  5775  31.15   51.7  10195  -40  2.08   0.0  \n",
       "4       NaN   NaN    NaN    NaN    NaN  NaN  0.58   0.0  \n",
       "...     ...   ...    ...    ...    ...  ...   ...   ...  \n",
       "2531  -4.41  5800  -25.6   21.8  10295   65     0   0.0  \n",
       "2532  -1.14  5845  -19.4   19.1  10310   15     0   0.0  \n",
       "2533  -0.64  5845   -9.6   35.2  10275  -35     0   0.0  \n",
       "2534  -0.89  5845  -19.6   34.2  10245  -30  0.05   0.0  \n",
       "2535   9.15  5820   1.95  39.35  10220  -25     0   0.0  \n",
       "\n",
       "[2536 rows x 73 columns]"
      ]
     },
     "execution_count": 5,
     "metadata": {},
     "output_type": "execute_result"
    }
   ],
   "source": [
    "df.drop(['Date'], axis=1, inplace=True)\n",
    "df"
   ]
  },
  {
   "cell_type": "code",
   "execution_count": 6,
   "metadata": {},
   "outputs": [],
   "source": [
    "\n",
    "from sklearn.impute import SimpleImputer\n",
    "imputer = SimpleImputer(missing_values=np.nan, strategy='mean')\n",
    "df = pd.DataFrame(imputer.fit_transform(df), dtype='float64')\n",
    "df.columns = ['WSR0','WSR1','WSR2','WSR3','WSR4','WSR5','WSR6','WSR7','WSR8','WSR9','WSR10','WSR11','WSR12','WSR13','WSR14','WSR15','WSR16','WSR17','WSR18','WSR19','WSR20','WSR21','WSR22','WSR23','WSR_PK','WSR_AV','T0','T1','T2','T3','T4','T5','T6','T7','T8','T9','T10','T11','T12','T13','T14','T15','T16','T17','T18','T19','T20','T21','T22','T23','T_PK','T_AV','T85','RH85','U85','V85','HT85','T70','RH70','U70','V70','HT70','T50','RH50','U50','V50','HT50','KI','TT','SLP','SLP_','Precp','class']\n"
   ]
  },
  {
   "cell_type": "code",
   "execution_count": 7,
   "metadata": {},
   "outputs": [
    {
     "data": {
      "text/plain": [
       "WSR0     0\n",
       "WSR1     0\n",
       "WSR2     0\n",
       "WSR3     0\n",
       "WSR4     0\n",
       "        ..\n",
       "TT       0\n",
       "SLP      0\n",
       "SLP_     0\n",
       "Precp    0\n",
       "class    0\n",
       "Length: 73, dtype: int64"
      ]
     },
     "execution_count": 7,
     "metadata": {},
     "output_type": "execute_result"
    }
   ],
   "source": [
    "df.isnull().sum()"
   ]
  },
  {
   "cell_type": "code",
   "execution_count": 8,
   "metadata": {},
   "outputs": [
    {
     "name": "stdout",
     "output_type": "stream",
     "text": [
      "Total Records: 2536\n",
      "Normal Records: 2463\n",
      "Ozone Records: 73\n"
     ]
    }
   ],
   "source": [
    "print(f'Total Records: {df.shape[0]}')\n",
    "amount_normal = df.loc[df['class'] == 0].shape[0]\n",
    "amount_ozone = df.loc[df['class'] == 1].shape[0]\n",
    "print(f'Normal Records: {amount_normal}')\n",
    "print(f'Ozone Records: {amount_ozone}')"
   ]
  },
  {
   "cell_type": "code",
   "execution_count": 9,
   "metadata": {},
   "outputs": [],
   "source": [
    "X=df.iloc[:,0:72]\n",
    "Y=df.iloc[:,72]"
   ]
  },
  {
   "cell_type": "code",
   "execution_count": 10,
   "metadata": {},
   "outputs": [],
   "source": [
    "from sklearn.preprocessing import StandardScaler\n",
    "scale_X = StandardScaler()\n",
    "X = scale_X.fit_transform(X)"
   ]
  },
  {
   "cell_type": "code",
   "execution_count": 11,
   "metadata": {},
   "outputs": [],
   "source": [
    "from imblearn.over_sampling import RandomOverSampler\n",
    "oversample = RandomOverSampler()\n",
    "X, Y= oversample.fit_resample(X, Y)"
   ]
  },
  {
   "cell_type": "code",
   "execution_count": 12,
   "metadata": {},
   "outputs": [],
   "source": [
    "from sklearn.model_selection import train_test_split\n",
    "X_train, X_test, y_train, y_test = train_test_split(X, Y, test_size = 0.25, random_state = 0)"
   ]
  },
  {
   "cell_type": "code",
   "execution_count": 13,
   "metadata": {},
   "outputs": [
    {
     "name": "stdout",
     "output_type": "stream",
     "text": [
      "[4.55263101e-01 1.79490094e-01 6.20890497e-02 4.39142669e-02\n",
      " 3.80372007e-02 3.06772260e-02 2.20456432e-02 1.86782785e-02\n",
      " 1.49541086e-02 1.32032659e-02 1.17121711e-02 1.04941979e-02\n",
      " 9.62035298e-03 8.98948118e-03 7.80544193e-03 7.05386850e-03\n",
      " 6.52917619e-03 5.71851195e-03 5.11381307e-03 4.11808251e-03\n",
      " 3.74500991e-03 3.68340839e-03 3.30909023e-03 2.68702130e-03\n",
      " 2.50299173e-03 2.35030144e-03 2.29224284e-03 1.98757192e-03\n",
      " 1.76355952e-03 1.71760246e-03 1.58430874e-03 1.49006806e-03\n",
      " 1.41688901e-03 1.34103970e-03 1.25587781e-03 1.11275350e-03\n",
      " 1.04875268e-03 9.73407411e-04 9.09323861e-04 8.65375670e-04\n",
      " 7.85584561e-04 7.52257231e-04 6.90483518e-04 6.59112467e-04\n",
      " 5.73228860e-04 5.63225149e-04 4.95030754e-04 2.56581790e-04\n",
      " 2.41771682e-04 2.12888949e-04 1.72051876e-04 1.64028830e-04\n",
      " 1.29953770e-04 1.04429273e-04 8.37656735e-05 8.03547835e-05\n",
      " 6.20070134e-05 5.67623349e-05 5.17991748e-05 4.58053283e-05\n",
      " 4.12559283e-05 3.62145510e-05 3.23019735e-05 3.00991605e-05\n",
      " 2.72608843e-05 2.39385673e-05 1.81573254e-05 1.76334874e-05\n",
      " 1.59148678e-05 1.37854355e-05 1.11534942e-05 7.23235004e-06]\n"
     ]
    }
   ],
   "source": [
    "from sklearn.decomposition import PCA\n",
    "pca=PCA(n_components=72)\n",
    "X_train=pca.fit_transform(X_train)\n",
    "X_test=pca.transform(X_test)\n",
    "explained_variance=pca.explained_variance_ratio_\n",
    "print(explained_variance)"
   ]
  },
  {
   "cell_type": "code",
   "execution_count": 14,
   "metadata": {},
   "outputs": [
    {
     "data": {
      "text/html": [
       "<style>#sk-container-id-1 {color: black;background-color: white;}#sk-container-id-1 pre{padding: 0;}#sk-container-id-1 div.sk-toggleable {background-color: white;}#sk-container-id-1 label.sk-toggleable__label {cursor: pointer;display: block;width: 100%;margin-bottom: 0;padding: 0.3em;box-sizing: border-box;text-align: center;}#sk-container-id-1 label.sk-toggleable__label-arrow:before {content: \"▸\";float: left;margin-right: 0.25em;color: #696969;}#sk-container-id-1 label.sk-toggleable__label-arrow:hover:before {color: black;}#sk-container-id-1 div.sk-estimator:hover label.sk-toggleable__label-arrow:before {color: black;}#sk-container-id-1 div.sk-toggleable__content {max-height: 0;max-width: 0;overflow: hidden;text-align: left;background-color: #f0f8ff;}#sk-container-id-1 div.sk-toggleable__content pre {margin: 0.2em;color: black;border-radius: 0.25em;background-color: #f0f8ff;}#sk-container-id-1 input.sk-toggleable__control:checked~div.sk-toggleable__content {max-height: 200px;max-width: 100%;overflow: auto;}#sk-container-id-1 input.sk-toggleable__control:checked~label.sk-toggleable__label-arrow:before {content: \"▾\";}#sk-container-id-1 div.sk-estimator input.sk-toggleable__control:checked~label.sk-toggleable__label {background-color: #d4ebff;}#sk-container-id-1 div.sk-label input.sk-toggleable__control:checked~label.sk-toggleable__label {background-color: #d4ebff;}#sk-container-id-1 input.sk-hidden--visually {border: 0;clip: rect(1px 1px 1px 1px);clip: rect(1px, 1px, 1px, 1px);height: 1px;margin: -1px;overflow: hidden;padding: 0;position: absolute;width: 1px;}#sk-container-id-1 div.sk-estimator {font-family: monospace;background-color: #f0f8ff;border: 1px dotted black;border-radius: 0.25em;box-sizing: border-box;margin-bottom: 0.5em;}#sk-container-id-1 div.sk-estimator:hover {background-color: #d4ebff;}#sk-container-id-1 div.sk-parallel-item::after {content: \"\";width: 100%;border-bottom: 1px solid gray;flex-grow: 1;}#sk-container-id-1 div.sk-label:hover label.sk-toggleable__label {background-color: #d4ebff;}#sk-container-id-1 div.sk-serial::before {content: \"\";position: absolute;border-left: 1px solid gray;box-sizing: border-box;top: 0;bottom: 0;left: 50%;z-index: 0;}#sk-container-id-1 div.sk-serial {display: flex;flex-direction: column;align-items: center;background-color: white;padding-right: 0.2em;padding-left: 0.2em;position: relative;}#sk-container-id-1 div.sk-item {position: relative;z-index: 1;}#sk-container-id-1 div.sk-parallel {display: flex;align-items: stretch;justify-content: center;background-color: white;position: relative;}#sk-container-id-1 div.sk-item::before, #sk-container-id-1 div.sk-parallel-item::before {content: \"\";position: absolute;border-left: 1px solid gray;box-sizing: border-box;top: 0;bottom: 0;left: 50%;z-index: -1;}#sk-container-id-1 div.sk-parallel-item {display: flex;flex-direction: column;z-index: 1;position: relative;background-color: white;}#sk-container-id-1 div.sk-parallel-item:first-child::after {align-self: flex-end;width: 50%;}#sk-container-id-1 div.sk-parallel-item:last-child::after {align-self: flex-start;width: 50%;}#sk-container-id-1 div.sk-parallel-item:only-child::after {width: 0;}#sk-container-id-1 div.sk-dashed-wrapped {border: 1px dashed gray;margin: 0 0.4em 0.5em 0.4em;box-sizing: border-box;padding-bottom: 0.4em;background-color: white;}#sk-container-id-1 div.sk-label label {font-family: monospace;font-weight: bold;display: inline-block;line-height: 1.2em;}#sk-container-id-1 div.sk-label-container {text-align: center;}#sk-container-id-1 div.sk-container {/* jupyter's `normalize.less` sets `[hidden] { display: none; }` but bootstrap.min.css set `[hidden] { display: none !important; }` so we also need the `!important` here to be able to override the default hidden behavior on the sphinx rendered scikit-learn.org. See: https://github.com/scikit-learn/scikit-learn/issues/21755 */display: inline-block !important;position: relative;}#sk-container-id-1 div.sk-text-repr-fallback {display: none;}</style><div id=\"sk-container-id-1\" class=\"sk-top-container\"><div class=\"sk-text-repr-fallback\"><pre>SVC(random_state=0)</pre><b>In a Jupyter environment, please rerun this cell to show the HTML representation or trust the notebook. <br />On GitHub, the HTML representation is unable to render, please try loading this page with nbviewer.org.</b></div><div class=\"sk-container\" hidden><div class=\"sk-item\"><div class=\"sk-estimator sk-toggleable\"><input class=\"sk-toggleable__control sk-hidden--visually\" id=\"sk-estimator-id-1\" type=\"checkbox\" checked><label for=\"sk-estimator-id-1\" class=\"sk-toggleable__label sk-toggleable__label-arrow\">SVC</label><div class=\"sk-toggleable__content\"><pre>SVC(random_state=0)</pre></div></div></div></div></div>"
      ],
      "text/plain": [
       "SVC(random_state=0)"
      ]
     },
     "execution_count": 14,
     "metadata": {},
     "output_type": "execute_result"
    }
   ],
   "source": [
    "from sklearn.svm import SVC\n",
    "classifier = SVC( kernel = 'rbf', random_state = 0)\n",
    "classifier.fit(X_train, y_train)"
   ]
  },
  {
   "cell_type": "code",
   "execution_count": 15,
   "metadata": {},
   "outputs": [],
   "source": [
    "Y_pred = classifier.predict(X_test)"
   ]
  },
  {
   "cell_type": "code",
   "execution_count": 16,
   "metadata": {},
   "outputs": [
    {
     "data": {
      "image/png": "[encoded data removed]",
      "text/plain": [
       "<Figure size 432x288 with 2 Axes>"
      ]
     },
     "metadata": {
      "needs_background": "light"
     },
     "output_type": "display_data"
    }
   ],
   "source": [
    "from sklearn.metrics import confusion_matrix, ConfusionMatrixDisplay, accuracy_score, roc_curve, auc, precision_score,recall_score,f1_score\n",
    "cm = confusion_matrix(y_test, Y_pred)\n",
    "disp_cm = ConfusionMatrixDisplay(confusion_matrix=cm)\n",
    "disp_cm.plot()\n",
    "path = r\"D:\\College HW\\ML\\Project\\Ozone-Level-Detection\\Images\"\n",
    "plt.savefig(r\"{}\\SVM_CONFmat.png\".format(path))\n",
    "plt.show()"
   ]
  },
  {
   "cell_type": "code",
   "execution_count": 17,
   "metadata": {},
   "outputs": [
    {
     "data": {
      "text/plain": [
       "0.974025974025974"
      ]
     },
     "execution_count": 17,
     "metadata": {},
     "output_type": "execute_result"
    }
   ],
   "source": [
    "accuracy_score(y_test, Y_pred)"
   ]
  },
  {
   "cell_type": "code",
   "execution_count": 18,
   "metadata": {},
   "outputs": [
    {
     "name": "stdout",
     "output_type": "stream",
     "text": [
      "Accuracy:  0.974025974025974\n",
      "Precision:  0.9518796992481203\n",
      "Recall:  1.0\n",
      "F1:  0.9753466872110941\n",
      "Sensitivity  1.0\n",
      "Specificity:  0.9465776293823038\n"
     ]
    }
   ],
   "source": [
    "accu = accuracy_score(y_test, Y_pred)\n",
    "pres = precision_score(y_test,Y_pred)\n",
    "rec = recall_score(y_test,Y_pred)\n",
    "f1s = f1_score(y_test,Y_pred)\n",
    "sens = cm[1][1]/(cm[1][1]+cm[1][0])\n",
    "spec = cm[0][0]/(cm[0][1]+cm[0][0])\n",
    "print(\"Accuracy: \", accu)\n",
    "print(\"Precision: \", pres)\n",
    "print(\"Recall: \", rec)\n",
    "print(\"F1: \", f1s)\n",
    "print(\"Sensitivity \", sens)\n",
    "print(\"Specificity: \", spec)"
   ]
  },
  {
   "cell_type": "code",
   "execution_count": 19,
   "metadata": {},
   "outputs": [
    {
     "data": {
      "image/png": "[encoded data removed]",
      "text/plain": [
       "<Figure size 432x288 with 1 Axes>"
      ]
     },
     "metadata": {
      "needs_background": "light"
     },
     "output_type": "display_data"
    },
    {
     "name": "stdout",
     "output_type": "stream",
     "text": [
      "AUC value is 0.9732888146911519 \n"
     ]
    }
   ],
   "source": [
    "fpr, tpr, threshold= roc_curve(y_test, Y_pred, pos_label=1)\n",
    "plt.plot(fpr, tpr)\n",
    "plt.xlabel(\"False Positive Rate\")\n",
    "plt.ylabel(\"True Positive Rate\")\n",
    "plt.title(\"ROC curve\")\n",
    "path = r\"D:\\College HW\\ML\\Project\\Ozone-Level-Detection\\Images\"\n",
    "plt.savefig(r\"{}\\SVM_AUC.png\".format(path))\n",
    "plt.show()\n",
    "print(\"AUC value is {} \".format(auc(fpr, tpr)))"
   ]
  },
  {
   "cell_type": "code",
   "execution_count": 20,
   "metadata": {},
   "outputs": [],
   "source": [
    "filename = r'D:\\College HW\\ML\\Project\\Ozone-Level-Detection\\Models'\n",
    "pickle.dump(classifier , open(r'{}\\SVM.sav'.format(filename), 'wb'))"
   ]
  },
  {
   "cell_type": "code",
   "execution_count": 22,
   "metadata": {},
   "outputs": [
    {
     "data": {
      "text/plain": [
       "0.974025974025974"
      ]
     },
     "execution_count": 22,
     "metadata": {},
     "output_type": "execute_result"
    }
   ],
   "source": [
    "classifier = pickle.load(open(r'{}\\SVM.sav'.format(filename), 'rb'))\n",
    "Y_pred = classifier.predict(X_test)\n",
    "accuracy_score(y_test, Y_pred)"
   ]
  }
 ],
 "metadata": {
  "kernelspec": {
   "display_name": "Python 3.9.1 64-bit",
   "language": "python",
   "name": "python3"
  },
  "language_info": {
   "codemirror_mode": {
    "name": "ipython",
    "version": 3
   },
   "file_extension": ".py",
   "mimetype": "text/x-python",
   "name": "python",
   "nbconvert_exporter": "python",
   "pygments_lexer": "ipython3",
   "version": "3.9.1"
  },
  "orig_nbformat": 4,
  "vscode": {
   "interpreter": {
    "hash": "5addf786bcd861d1ce5006f23111f8cbb206731e5b61b0a5632ba9e0252558a8"
   }
  }
 },
 "nbformat": 4,
 "nbformat_minor": 2
}
